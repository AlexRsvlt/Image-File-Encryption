{
 "cells": [
  {
   "cell_type": "markdown",
   "id": "4e2234fb",
   "metadata": {},
   "source": [
    "## Image Encryption"
   ]
  },
  {
   "cell_type": "markdown",
   "id": "7f950786",
   "metadata": {},
   "source": [
    ">This code is an based on the AES encryption algorithm in CBC mode.The program creates an encrypted and a decrypted file of the original image file. The process includes reading the file, converting it to base64, encrypting it, saving the encrypted file, decrypting it, and finally saving the decrypted file."
   ]
  },
  {
   "cell_type": "code",
   "execution_count": null,
   "id": "56c3627b",
   "metadata": {},
   "outputs": [],
   "source": [
    "#installing the pycryptodome package which includes the Random and AES modules\n",
    "pip install pycryptodome"
   ]
  },
  {
   "cell_type": "code",
   "execution_count": null,
   "id": "f43b2518",
   "metadata": {},
   "outputs": [],
   "source": []
  },
  {
   "cell_type": "code",
   "execution_count": 1,
   "id": "e3083365",
   "metadata": {},
   "outputs": [
    {
     "name": "stdout",
     "output_type": "stream",
     "text": [
      "Enter name of the file: bento.jpg\n",
      "Enter a key: japanese food\n",
      "<class 'bytes'>\n"
     ]
    }
   ],
   "source": [
    "#importing required modules and library functions\n",
    "import string\n",
    "import base64 \n",
    "from Crypto import Random\n",
    "from Crypto.Cipher import AES\n",
    "import hashlib\n",
    "\n",
    "#constants\n",
    "#block_size: defines the block sixe for AES encryption, which is 16bytes.\n",
    "block_size = 16\n",
    "pad_len=0\n",
    "\n",
    "#SHA-256 hash of the provided key, ensuring the key is 32 bytes long, which is required for AES-256 encryption.\n",
    "def sha256(key):\n",
    "\tsha = hashlib.sha256()\n",
    "\tsha.update(key.encode('utf-8'))\n",
    "\treturn sha.digest()\n",
    "\n",
    "#Padding: Adds padding to the plaintext to ensure its length is a multiple of the block size. PKCS7 padding is used here.\n",
    "def pad(plain,block):\n",
    "\tpad_len = len(plain) % block\n",
    "\treturn plain+((block-pad_len)*chr(block-pad_len)).encode('ascii')\n",
    "\n",
    "#Unpadding: Removes the padding from the plaintext after decryption.\n",
    "def unpad(plain,block):\n",
    "\tprint(type(plain))\n",
    "\treturn plain[0:-(block_size-pad_len)]\n",
    "\n",
    "#Encryption: Pads the plaintext, generates a random IV, encrypts the plaintext using AES in CBC mode, and concatenates the IV with the encrypted text. \n",
    "#The result is base64 encoded for safe storage or transmission.\n",
    "def encrypt(plain,key):\n",
    "\tplain = pad(plain,block_size)\n",
    "\tiv = Random.new().read(block_size)\n",
    "\tcipher = AES.new(key,AES.MODE_CBC,iv)\n",
    "\tfinal_cipher = cipher.encrypt(plain)\n",
    "\treturn base64.b64encode(iv+final_cipher)\n",
    "\n",
    "#Decryption: Base64 decodes the ciphertext, extracts the IV, decrypts the ciphertext, and removes the padding.\n",
    "def decrypt(ciphertext,key):\n",
    "\tciphertext = base64.b64decode(ciphertext)\n",
    "\tiv = ciphertext[:16]\n",
    "\tcipher = AES.new(key,AES.MODE_CBC,iv)\n",
    "\tplaintext = cipher.decrypt(ciphertext[16:])\n",
    "\treturn unpad(plaintext,block_size) \n",
    "\n",
    "\n",
    "###Main\n",
    "\n",
    "#prompts the user to enter the name of the file to be ncrypted and a key.\n",
    "file = input('Enter name of the file: ')\n",
    "key = input('Enter a key: ')\n",
    "\n",
    "#hashes the key using SHA-256 to ensure it is the correct length for AES-256 encryption\n",
    "key = sha256(key)\n",
    "\n",
    "#opens file in binary read mode\n",
    "fp = open(file,'rb')\n",
    "\n",
    "#encodes the file contents to base64 to ensure the data is in a suitable format for encryption\n",
    "base64_file = base64.b64encode(fp.read())\n",
    "\n",
    "#Encrypts the base64-encoded file data using the provided key.\n",
    "#Writes the encrypted data to a new file named encrypted.jpg.\n",
    "enc = encrypt(base64_file,key)\n",
    "fp1 = open(\"encrypted.jpg\",'wb')\n",
    "fp1.write(enc)\n",
    "\n",
    "#Decrypts the encrypted data.\n",
    "#Writes the decrypted data to a new file named decrypted.jpg.\n",
    "dec = decrypt(enc,key)\n",
    "fp2 = open('decrypted.jpg','wb')\n",
    "fp2.write(base64.b64decode(dec))\n",
    "\n",
    "\n",
    "fp.close()\n",
    "fp1.close()\n",
    "fp2.close()\n"
   ]
  },
  {
   "cell_type": "code",
   "execution_count": null,
   "id": "079ef92b",
   "metadata": {},
   "outputs": [],
   "source": []
  }
 ],
 "metadata": {
  "kernelspec": {
   "display_name": "Python 3 (ipykernel)",
   "language": "python",
   "name": "python3"
  },
  "language_info": {
   "codemirror_mode": {
    "name": "ipython",
    "version": 3
   },
   "file_extension": ".py",
   "mimetype": "text/x-python",
   "name": "python",
   "nbconvert_exporter": "python",
   "pygments_lexer": "ipython3",
   "version": "3.11.5"
  }
 },
 "nbformat": 4,
 "nbformat_minor": 5
}
